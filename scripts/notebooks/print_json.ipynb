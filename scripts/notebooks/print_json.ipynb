{
 "cells": [
  {
   "attachments": {},
   "cell_type": "markdown",
   "metadata": {},
   "source": [
    "# print json of gemnet"
   ]
  },
  {
   "cell_type": "code",
   "execution_count": 1,
   "metadata": {},
   "outputs": [],
   "source": [
    "import json"
   ]
  },
  {
   "cell_type": "code",
   "execution_count": 4,
   "metadata": {},
   "outputs": [
    {
     "name": "stdout",
     "output_type": "stream",
     "text": [
      "comment\n",
      "TripInteraction_1_had_rbf\n",
      "TripInteraction_1_sum_cbf\n",
      "AtomUpdate_1_sum\n",
      "TripInteraction_2_had_rbf\n",
      "TripInteraction_2_sum_cbf\n",
      "AtomUpdate_2_sum\n",
      "TripInteraction_3_had_rbf\n",
      "TripInteraction_3_sum_cbf\n",
      "AtomUpdate_3_sum\n",
      "OutBlock_0_sum\n",
      "OutBlock_0_had\n",
      "OutBlock_1_sum\n",
      "OutBlock_1_had\n",
      "OutBlock_2_sum\n",
      "OutBlock_2_had\n",
      "OutBlock_3_sum\n",
      "OutBlock_3_had\n"
     ]
    }
   ],
   "source": [
    "# list all keys\n",
    "f = open(\"../../../models/Chemistry/gemnet/gemnet-dT.json\")\n",
    "data = json.load(f)\n",
    "for key in data.keys(): print(key)"
   ]
  },
  {
   "cell_type": "code",
   "execution_count": 8,
   "metadata": {},
   "outputs": [
    {
     "name": "stdout",
     "output_type": "stream",
     "text": [
      "tri_gaussian128\n",
      "18.873615264892578\n",
      "16.10817527770996\n",
      "15.01930046081543\n"
     ]
    }
   ],
   "source": [
    "print(data[\"comment\"])\n",
    "print(data[\"TripInteraction_1_had_rbf\"])\n",
    "print(data[\"TripInteraction_2_had_rbf\"])\n",
    "print(data[\"TripInteraction_3_had_rbf\"])\n"
   ]
  },
  {
   "cell_type": "code",
   "execution_count": 6,
   "metadata": {},
   "outputs": [
    {
     "name": "stdout",
     "output_type": "stream",
     "text": [
      "16.161039352416992\n",
      "13.54678726196289\n",
      "12.754337310791016\n",
      "13.484951972961426\n"
     ]
    }
   ],
   "source": [
    "print(data[\"OutBlock_0_had\"])\n",
    "print(data[\"OutBlock_1_had\"])\n",
    "print(data[\"OutBlock_2_had\"])\n",
    "print(data[\"OutBlock_3_had\"])"
   ]
  }
 ],
 "metadata": {
  "kernelspec": {
   "display_name": "ocp",
   "language": "python",
   "name": "python3"
  },
  "language_info": {
   "codemirror_mode": {
    "name": "ipython",
    "version": 3
   },
   "file_extension": ".py",
   "mimetype": "text/x-python",
   "name": "python",
   "nbconvert_exporter": "python",
   "pygments_lexer": "ipython3",
   "version": "3.9.13"
  },
  "orig_nbformat": 4
 },
 "nbformat": 4,
 "nbformat_minor": 2
}
