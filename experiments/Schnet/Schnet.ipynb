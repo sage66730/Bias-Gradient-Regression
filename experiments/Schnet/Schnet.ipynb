{
 "cells": [
  {
   "attachments": {},
   "cell_type": "markdown",
   "metadata": {},
   "source": [
    "# OC20 metrics on MD17\n",
    "This notebook presents the improvement of bias appended model and roiginal model which are trained on the 8 molecule in MD17.\n",
    "performances are evaluated on metric: Energy MAE, Force MAE, EFwT defined by OC20.\n",
    "Link to MD17 and OC20 can be found in README. \n",
    "\n",
    "please download the pre-trained model linked in README and put them in checkpoints directory."
   ]
  },
  {
   "cell_type": "code",
   "execution_count": 3,
   "metadata": {},
   "outputs": [],
   "source": [
    "import sys\n",
    "sys.path.append(\"../../\")\n",
    "\n",
    "import csv\n",
    "import dill\n",
    "import torch\n",
    "import numpy as np\n",
    "from tqdm import tqdm\n",
    "from torch.utils.data import DataLoader\n",
    "\n",
    "from datasets.MD17.MD17Dataset import MD17SingleDataset\n",
    "from scripts.losses import EnergyLoss, PosForceLoss\n",
    "from scripts.util import *"
   ]
  },
  {
   "cell_type": "code",
   "execution_count": 4,
   "metadata": {},
   "outputs": [],
   "source": [
    "def get_configs(model_path):\n",
    "    configs = dict()\n",
    "    with open(f\"{model_path}/info.txt\") as fp:\n",
    "        for line in fp:\n",
    "            line = line.strip().split(\" \")\n",
    "            if len(line)>1:\n",
    "                configs[line[0]] = line[1]\n",
    "\n",
    "    return configs\n",
    "\n",
    "def predict(model_path, epoch, configs, device, root):\n",
    "    # initialize\n",
    "    dataset = MD17SingleDataset(configs[\"style\"], configs[\"molecule\"], \"test\", configs[\"split\"], root)\n",
    "    identifier = dataset.identifier\n",
    "    test_dataloader = DataLoader(dataset, batch_size=1, shuffle=False, collate_fn=dataset.collate)\n",
    "    \n",
    "    path = glob.glob(f\"{model_path}/{epoch:03d}_*.pth\")\n",
    "    if not path: raise ValueError(\"model not found\")\n",
    "    model = torch.load(path[0], map_location=torch.device(torch.cuda.current_device()), pickle_module=dill)\n",
    "    print(f\"Using model {path[0]}\")\n",
    "    model.eval()\n",
    "    \n",
    "    # test\n",
    "    preds = []\n",
    "    losses = []\n",
    "    tq = tqdm(test_dataloader)\n",
    "    for data, label in tq:\n",
    "        data = {i:v.to(device) for i, v in data.items()}\n",
    "        label = {i:v.to(device) for i, v in label.items()}\n",
    "        pred = model(data)\n",
    "        preds.append( ((torch.cat((pred[\"E\"], pred[\"F\"].reshape(1, -1)), axis=1)).squeeze()).tolist() )\n",
    "     \n",
    "        loss_E = (EnergyLoss(pred, label).to(\"cpu\").item())\n",
    "        loss_F = PosForceLoss(pred, label)\n",
    "        loss_F = [ (l.to(\"cpu\").item()) for l in loss_F]\n",
    "        losses.append([loss_E]+loss_F)\n",
    "    \n",
    "    # save result\n",
    "    save_reult(model_path, identifier, preds, losses)\n",
    "\n",
    "def metric(model_path, configs):\n",
    "    # Every dataset has different unit, unify them to Energy:eV and Force: eV/A\n",
    "    toEv = {\"MD17SingleDataset\":0.0433634, \"MD17Dataset\":0.0433634}\n",
    "    scale = toEv[configs[\"dataset\"]]\n",
    "\n",
    "    # load and calculate\n",
    "    style, molecule, split = configs[\"style\"], configs[\"molecule\"], configs[\"split\"]\n",
    "    with open(f\"{model_path}/loss_MD17SingleDataset_{style}_{molecule}{split}test.csv\", newline='') as fp:\n",
    "        cdata = list(csv.reader(fp, quoting=csv.QUOTE_NONNUMERIC))\n",
    "        cdata = [[c for c in row] for row in cdata]\n",
    "        loss_Emole , loss_Fmole= [], []\n",
    "        hit, total = 0, len(cdata)\n",
    "        failE, failF = 0, 0\n",
    "\n",
    "        for row in tqdm(cdata):\n",
    "            loss_Emole.append(row[0]) \n",
    "            loss_Fmole.append(row[1:])\n",
    "            m = max(row[1:])\n",
    "            if row[0]<=0.02/scale and m<=0.03/scale: hit += 1\n",
    "            else:\n",
    "                if row[0]>0.02/scale: failE += 1\n",
    "                if m>0.03/scale: failF += 1\n",
    "        loss_Emole , loss_Fmole= np.array(loss_Emole), np.array(loss_Fmole)\n",
    "\n",
    "        print(f\"Energy MAE: {np.mean(loss_Emole):.3f},\\tForce MAE: {np.mean(loss_Fmole):.3f},\\tEFwT: {hit/total:.3f} (failE:{(failE/total):.3f}, failF:{(failF/total):.3f})\\n\")"
   ]
  },
  {
   "attachments": {},
   "cell_type": "markdown",
   "metadata": {},
   "source": [
    "# Perofrmance of original Schnet"
   ]
  },
  {
   "cell_type": "code",
   "execution_count": 6,
   "metadata": {},
   "outputs": [
    {
     "name": "stdout",
     "output_type": "stream",
     "text": [
      "molecule:a\n"
     ]
    },
    {
     "name": "stderr",
     "output_type": "stream",
     "text": [
      "100%|██████████| 156762/156762 [00:00<00:00, 190316.76it/s]\n"
     ]
    },
    {
     "name": "stdout",
     "output_type": "stream",
     "text": [
      "Energy MAE: 242.458,\tForce MAE: 0.442,\tEFwT: 0.000 (failE:1.000, failF:1.000)\n",
      "\n",
      "molecule:b\n"
     ]
    },
    {
     "name": "stderr",
     "output_type": "stream",
     "text": [
      "100%|██████████| 572983/572983 [00:01<00:00, 322508.71it/s]\n"
     ]
    },
    {
     "name": "stdout",
     "output_type": "stream",
     "text": [
      "Energy MAE: 14.520,\tForce MAE: 0.276,\tEFwT: 0.000 (failE:1.000, failF:0.713)\n",
      "\n",
      "molecule:e\n"
     ]
    },
    {
     "name": "stderr",
     "output_type": "stream",
     "text": [
      "100%|██████████| 500092/500092 [00:00<00:00, 524185.41it/s]\n"
     ]
    },
    {
     "name": "stdout",
     "output_type": "stream",
     "text": [
      "Energy MAE: 46.123,\tForce MAE: 0.253,\tEFwT: 0.000 (failE:1.000, failF:0.647)\n",
      "\n",
      "molecule:m\n"
     ]
    },
    {
     "name": "stderr",
     "output_type": "stream",
     "text": [
      "100%|██████████| 938237/938237 [00:02<00:00, 403066.10it/s]\n"
     ]
    },
    {
     "name": "stdout",
     "output_type": "stream",
     "text": [
      "Energy MAE: 190.557,\tForce MAE: 0.378,\tEFwT: 0.000 (failE:1.000, failF:0.905)\n",
      "\n",
      "molecule:n\n"
     ]
    },
    {
     "name": "stderr",
     "output_type": "stream",
     "text": [
      "100%|██████████| 271250/271250 [00:01<00:00, 238663.12it/s]\n"
     ]
    },
    {
     "name": "stdout",
     "output_type": "stream",
     "text": [
      "Energy MAE: 101.642,\tForce MAE: 0.256,\tEFwT: 0.000 (failE:1.000, failF:0.865)\n",
      "\n",
      "molecule:s\n"
     ]
    },
    {
     "name": "stderr",
     "output_type": "stream",
     "text": [
      "100%|██████████| 265231/265231 [00:00<00:00, 312009.55it/s]\n"
     ]
    },
    {
     "name": "stdout",
     "output_type": "stream",
     "text": [
      "Energy MAE: 197.106,\tForce MAE: 0.314,\tEFwT: 0.000 (failE:1.000, failF:0.990)\n",
      "\n",
      "molecule:t\n"
     ]
    },
    {
     "name": "stderr",
     "output_type": "stream",
     "text": [
      "100%|██████████| 387790/387790 [00:01<00:00, 362305.79it/s]\n"
     ]
    },
    {
     "name": "stdout",
     "output_type": "stream",
     "text": [
      "Energy MAE: 118.788,\tForce MAE: 0.304,\tEFwT: 0.000 (failE:1.000, failF:0.958)\n",
      "\n",
      "molecule:u\n"
     ]
    },
    {
     "name": "stderr",
     "output_type": "stream",
     "text": [
      "100%|██████████| 78770/78770 [00:00<00:00, 296519.00it/s]\n"
     ]
    },
    {
     "name": "stdout",
     "output_type": "stream",
     "text": [
      "Energy MAE: 440.164,\tForce MAE: 0.376,\tEFwT: 0.000 (failE:1.000, failF:0.999)\n",
      "\n"
     ]
    }
   ],
   "source": [
    "# turn this on if you want to re-predict\n",
    "need_predict = False\n",
    "\n",
    "for m in [\"a\", \"b\", \"e\", \"m\", \"n\", \"s\", \"t\", \"u\"]:\n",
    "    print(f\"molecule:{m}\")\n",
    "    model_path = f\"./checkpoints/BGR-schnet(no-bias-{m})\"\n",
    "    cfg = get_configs(model_path)\n",
    "\n",
    "    if need_predict: predict(model_path, 299, cfg, \"cuda\", \"../../datasets/MD17/datas\")\n",
    "    metric(model_path, cfg)"
   ]
  },
  {
   "attachments": {},
   "cell_type": "markdown",
   "metadata": {},
   "source": [
    "# Performance on bias appended Schnet"
   ]
  },
  {
   "cell_type": "code",
   "execution_count": null,
   "metadata": {},
   "outputs": [],
   "source": [
    "# turn this on if you want to re-predict\n",
    "need_predict = False\n",
    "\n",
    "for m in [\"a\", \"b\", \"e\", \"m\", \"n\", \"s\", \"t\", \"u\"]:\n",
    "    print(f\"molecule:{m}\")\n",
    "    model_path = f\"./checkpoints/BGR-schnet(biased-{m})\"\n",
    "    cfg = get_configs(model_path)\n",
    "\n",
    "    if need_predict: predict(model_path, 299, cfg, \"cuda\", \"../../datasets/MD17/datas\")\n",
    "    metric(model_path, cfg)"
   ]
  }
 ],
 "metadata": {
  "kernelspec": {
   "display_name": "ocp",
   "language": "python",
   "name": "python3"
  },
  "language_info": {
   "codemirror_mode": {
    "name": "ipython",
    "version": 3
   },
   "file_extension": ".py",
   "mimetype": "text/x-python",
   "name": "python",
   "nbconvert_exporter": "python",
   "pygments_lexer": "ipython3",
   "version": "3.9.13"
  },
  "orig_nbformat": 4
 },
 "nbformat": 4,
 "nbformat_minor": 2
}
